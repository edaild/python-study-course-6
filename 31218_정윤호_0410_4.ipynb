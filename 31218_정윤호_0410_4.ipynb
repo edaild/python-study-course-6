{
 "cells": [
  {
   "cell_type": "markdown",
   "id": "164214b1",
   "metadata": {},
   "source": [
    "31218_정윤호_0410_4"
   ]
  },
  {
   "cell_type": "markdown",
   "id": "043aadaf",
   "metadata": {},
   "source": [
    "# . 리스트\n",
    "```\n",
    "리스트 여러 데이터를 한 번에 묶어서 표현\n",
    "리스트 이름 = [데이터1, 데이터2, ..., 데이터n]\n",
    "```\n"
   ]
  },
  {
   "cell_type": "code",
   "execution_count": 1,
   "id": "702e17ce",
   "metadata": {},
   "outputs": [],
   "source": [
    "# 1월 지출부터 6월 지출까지 리스트로 만들기\n",
    "spending = [25, 36, 8, 53, 24, 56]"
   ]
  },
  {
   "cell_type": "code",
   "execution_count": 2,
   "id": "f3f9f95e",
   "metadata": {},
   "outputs": [
    {
     "name": "stdout",
     "output_type": "stream",
     "text": [
      "[25, 36, 8, 53, 24, 56]\n"
     ]
    }
   ],
   "source": [
    "print(spending)"
   ]
  },
  {
   "cell_type": "code",
   "execution_count": 3,
   "id": "a648c90c",
   "metadata": {},
   "outputs": [
    {
     "data": {
      "text/plain": [
       "list"
      ]
     },
     "execution_count": 3,
     "metadata": {},
     "output_type": "execute_result"
    }
   ],
   "source": [
    "# 자료형이 어떻게 되는지 알아보는 명령어 type\n",
    "type(spending)"
   ]
  },
  {
   "cell_type": "code",
   "execution_count": 4,
   "id": "b25bf530",
   "metadata": {},
   "outputs": [
    {
     "name": "stdout",
     "output_type": "stream",
     "text": [
      "25\n"
     ]
    }
   ],
   "source": [
    "# 1월 지출은?\n",
    "print(spending[0])"
   ]
  },
  {
   "cell_type": "code",
   "execution_count": 5,
   "id": "157b5d4f",
   "metadata": {},
   "outputs": [
    {
     "name": "stdout",
     "output_type": "stream",
     "text": [
      "56\n"
     ]
    }
   ],
   "source": [
    "# 6월 지출은?\n",
    "print(spending[5])"
   ]
  },
  {
   "cell_type": "code",
   "execution_count": 6,
   "id": "12bf5b5e",
   "metadata": {},
   "outputs": [
    {
     "name": "stdout",
     "output_type": "stream",
     "text": [
      "8\n"
     ]
    }
   ],
   "source": [
    "# 3월 지출은?\n",
    "print(spending[2])"
   ]
  },
  {
   "cell_type": "code",
   "execution_count": 10,
   "id": "440ee0ba",
   "metadata": {},
   "outputs": [
    {
     "name": "stdout",
     "output_type": "stream",
     "text": [
      "64\n"
     ]
    }
   ],
   "source": [
    "#문제 3월과 6월 지출 합은?\n",
    "print(spending[2]+spending[5])"
   ]
  },
  {
   "cell_type": "markdown",
   "id": "92376090",
   "metadata": {},
   "source": [
    "알고보니 4월 지출이 10 낮게 기록됐다. <br>4월 지출에 10을 더하시오"
   ]
  },
  {
   "cell_type": "code",
   "execution_count": 15,
   "id": "70e4b2ff",
   "metadata": {},
   "outputs": [
    {
     "name": "stdout",
     "output_type": "stream",
     "text": [
      "변경전 [25, 36, 8, 63, 4, 56]\n",
      "변경후 [25, 36, 8, 73, 4, 56]\n"
     ]
    }
   ],
   "source": [
    "print('변경전' , spending)\n",
    "spending[3] += 10\n",
    "print('변경후' , spending)"
   ]
  },
  {
   "cell_type": "markdown",
   "id": "f90ea77a",
   "metadata": {},
   "source": [
    "5월 지출을 2로 나누시오"
   ]
  },
  {
   "cell_type": "code",
   "execution_count": 19,
   "id": "8e5ed321",
   "metadata": {},
   "outputs": [
    {
     "name": "stdout",
     "output_type": "stream",
     "text": [
      "변경전 [25, 36, 8, 73, 0.04, 56]\n",
      "변경후 [25, 36, 8, 73, 0.02, 56]\n"
     ]
    }
   ],
   "source": [
    "print('변경전' , spending)\n",
    "spending[4] /= 2\n",
    "print('변경후' , spending)"
   ]
  },
  {
   "cell_type": "markdown",
   "id": "34a9919a",
   "metadata": {},
   "source": [
    "### 마이너스 인덱스"
   ]
  },
  {
   "cell_type": "code",
   "execution_count": 24,
   "id": "e7384ce8",
   "metadata": {},
   "outputs": [
    {
     "name": "stdout",
     "output_type": "stream",
     "text": [
      "56\n",
      "56\n"
     ]
    }
   ],
   "source": [
    "print(spending[5])\n",
    "print(spending[-1])"
   ]
  },
  {
   "cell_type": "code",
   "execution_count": 25,
   "id": "3cd1b39d",
   "metadata": {},
   "outputs": [
    {
     "name": "stdout",
     "output_type": "stream",
     "text": [
      "0.02\n",
      "0.02\n"
     ]
    }
   ],
   "source": [
    "print(spending[4])\n",
    "print(spending[-2])"
   ]
  },
  {
   "cell_type": "markdown",
   "id": "7ecf403e",
   "metadata": {},
   "source": [
    "# 2. 리스트의 다양한 기능\n",
    "\n",
    "### 리스트 길이 확인\n",
    "> len(리스트이름)"
   ]
  },
  {
   "cell_type": "code",
   "execution_count": 26,
   "id": "721f047f",
   "metadata": {},
   "outputs": [
    {
     "data": {
      "text/plain": [
       "6"
      ]
     },
     "execution_count": 26,
     "metadata": {},
     "output_type": "execute_result"
    }
   ],
   "source": [
    "# spending의 길이를 구하라\n",
    "len(spending)"
   ]
  },
  {
   "cell_type": "code",
   "execution_count": null,
   "id": "5aabba4e",
   "metadata": {},
   "outputs": [],
   "source": []
  }
 ],
 "metadata": {
  "kernelspec": {
   "display_name": "Python 3 (ipykernel)",
   "language": "python",
   "name": "python3"
  },
  "language_info": {
   "codemirror_mode": {
    "name": "ipython",
    "version": 3
   },
   "file_extension": ".py",
   "mimetype": "text/x-python",
   "name": "python",
   "nbconvert_exporter": "python",
   "pygments_lexer": "ipython3",
   "version": "3.9.7"
  }
 },
 "nbformat": 4,
 "nbformat_minor": 5
}
